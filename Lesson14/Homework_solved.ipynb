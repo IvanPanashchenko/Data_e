{
 "cells": [
  {
   "cell_type": "code",
   "execution_count": 1,
   "id": "0f15e301",
   "metadata": {},
   "outputs": [],
   "source": [
    "import pyspark\n"
   ]
  },
  {
   "cell_type": "code",
   "execution_count": null,
   "id": "eac11142",
   "metadata": {},
   "outputs": [],
   "source": []
  },
  {
   "cell_type": "code",
   "execution_count": null,
   "id": "1186e6ad",
   "metadata": {},
   "outputs": [],
   "source": [
    "apt-get install openjdk-8-jdk-headless -qq "
   ]
  },
  {
   "cell_type": "code",
   "execution_count": 2,
   "id": "0ce1cb77",
   "metadata": {},
   "outputs": [],
   "source": [
    "from pyspark.sql import SparkSession, functions as F, types as T"
   ]
  },
  {
   "cell_type": "code",
   "execution_count": 3,
   "id": "6d71f5d9",
   "metadata": {},
   "outputs": [],
   "source": [
    "spark = SparkSession.builder.master('local[*]').getOrCreate()"
   ]
  },
  {
   "cell_type": "code",
   "execution_count": 4,
   "id": "714a1723",
   "metadata": {},
   "outputs": [
    {
     "name": "stdout",
     "output_type": "stream",
     "text": [
      "3.5.0\n"
     ]
    }
   ],
   "source": [
    "print(spark.version)"
   ]
  },
  {
   "cell_type": "code",
   "execution_count": 5,
   "id": "75b2fb16",
   "metadata": {},
   "outputs": [],
   "source": [
    "actor_df = spark.read.csv('./data/actor.csv', header=True, inferSchema=True)\n",
    "address_df = spark.read.csv('./data/address.csv', header=True, inferSchema=True)\n",
    "category_df = spark.read.csv('./data/category.csv', header=True, inferSchema=True)\n",
    "city_df = spark.read.csv('./data/city.csv', header=True, inferSchema=True)\n",
    "country_df = spark.read.csv('./data/country.csv', header=True, inferSchema=True)\n",
    "customer_df = spark.read.csv('./data/customer.csv', header=True, inferSchema=True)\n",
    "film_df = spark.read.csv('./data/film.csv', header=True, inferSchema=True)\n",
    "film_actor_df = spark.read.csv('./data/film_actor.csv', header=True, inferSchema=True)\n",
    "film_category_df = spark.read.csv('./data/film_category.csv', header=True, inferSchema=True)\n",
    "inventory_df = spark.read.csv('./data/inventory.csv', header=True, inferSchema=True)\n",
    "language_df = spark.read.csv('./data/language.csv', header=True, inferSchema=True)\n",
    "payment_df = spark.read.csv('./data/payment.csv', header=True, inferSchema=True)\n",
    "rental_df = spark.read.csv('./data/rental.csv', header=True, inferSchema=True)\n",
    "staff_df = spark.read.csv('./data/staff.csv', header=True, inferSchema=True)\n",
    "store_df = spark.read.csv('./data/store.csv', header=True, inferSchema=True)"
   ]
  },
  {
   "cell_type": "markdown",
   "id": "d42f376d",
   "metadata": {},
   "source": [
    "Вивести кількість фільмів в кожній категорії. Результат відсортувати за спаданням."
   ]
  },
  {
   "cell_type": "code",
   "execution_count": 9,
   "id": "7fee5c38",
   "metadata": {},
   "outputs": [
    {
     "name": "stdout",
     "output_type": "stream",
     "text": [
      "+-----------+-------------+-----+\n",
      "|category_id|category_name|count|\n",
      "+-----------+-------------+-----+\n",
      "|15         |Sports       |74   |\n",
      "|9          |Foreign      |73   |\n",
      "|8          |Family       |69   |\n",
      "|6          |Documentary  |68   |\n",
      "|2          |Animation    |66   |\n",
      "|1          |Action       |64   |\n",
      "|13         |New          |63   |\n",
      "|7          |Drama        |62   |\n",
      "|14         |Sci-Fi       |61   |\n",
      "|10         |Games        |61   |\n",
      "|3          |Children     |60   |\n",
      "|5          |Comedy       |58   |\n",
      "|4          |Classics     |57   |\n",
      "|16         |Travel       |57   |\n",
      "|11         |Horror       |56   |\n",
      "|12         |Music        |51   |\n",
      "+-----------+-------------+-----+\n",
      "\n"
     ]
    }
   ],
   "source": [
    "films_count_by_category_df = category_df\\\n",
    "    .join(film_category_df,\n",
    "        category_df.category_id == film_category_df.category_id, 'left'\n",
    "    ).select(\n",
    "        category_df.category_id,\n",
    "        category_df.name.alias(\"category_name\"),\n",
    "    ).groupBy(\n",
    "        category_df.category_id,\n",
    "        F.col(\"category_name\"),\n",
    "    ).count(\n",
    "    ).sort(\n",
    "        F.col(\"count\").desc(),\n",
    "    ).persist()\n",
    "films_count_by_category_df.show(films_count_by_category_df.count(), False)"
   ]
  },
  {
   "cell_type": "markdown",
   "id": "7f0df15e",
   "metadata": {},
   "source": [
    "Вивести 10 акторів, чиї фільми брали на прокат найбільше. Результат відсортувати за спаданням."
   ]
  },
  {
   "cell_type": "code",
   "execution_count": 10,
   "id": "0a0a2e53",
   "metadata": {},
   "outputs": [
    {
     "name": "stdout",
     "output_type": "stream",
     "text": [
      "+--------+----------+-----------+----------------+\n",
      "|actor_id|first_name|  last_name|total_film_count|\n",
      "+--------+----------+-----------+----------------+\n",
      "|     107|      GINA|  DEGENERES|              42|\n",
      "|     102|    WALTER|       TORN|              41|\n",
      "|     198|      MARY|     KEITEL|              40|\n",
      "|     181|   MATTHEW|     CARREY|              39|\n",
      "|      23|    SANDRA|     KILMER|              37|\n",
      "|      81|  SCARLETT|      DAMON|              36|\n",
      "|     144|    ANGELA|WITHERSPOON|              35|\n",
      "|      60|     HENRY|      BERRY|              35|\n",
      "|      13|       UMA|       WOOD|              35|\n",
      "|      37|       VAL|     BOLGER|              35|\n",
      "+--------+----------+-----------+----------------+\n",
      "\n"
     ]
    }
   ],
   "source": [
    "top10_popular_actors_df = film_actor_df\\\n",
    "    .join(actor_df, film_actor_df.actor_id == actor_df.actor_id, 'inner')\\\n",
    "    .select(\n",
    "        actor_df.actor_id,\n",
    "        actor_df.first_name,\n",
    "        actor_df.last_name\n",
    "    ).groupBy(\n",
    "        actor_df.actor_id,\n",
    "        actor_df.first_name,\n",
    "        actor_df.last_name\n",
    "    ).agg(\n",
    "        F.count(actor_df.actor_id).alias(\"total_film_count\")\n",
    "    ).sort(\n",
    "        F.col(\"total_film_count\").desc(),\n",
    "    ).limit(10)\n",
    "top10_popular_actors_df.show()"
   ]
  },
  {
   "cell_type": "markdown",
   "id": "cc145875",
   "metadata": {},
   "source": [
    "\n",
    "Вивести категорія фільмів, на яку було витрачено найбільше грошей в прокаті"
   ]
  },
  {
   "cell_type": "code",
   "execution_count": 13,
   "id": "baa01d5d",
   "metadata": {},
   "outputs": [
    {
     "data": {
      "text/plain": [
       "Row(category_id=15, category_name='Sports', sum_production_cost=1509.2600000000004)"
      ]
     },
     "execution_count": 13,
     "metadata": {},
     "output_type": "execute_result"
    }
   ],
   "source": [
    "most_expensive_film_category_df = category_df\\\n",
    "    .join(film_category_df, category_df.category_id == film_category_df.category_id, 'inner')\\\n",
    "    .join(film_df, film_category_df.film_id == film_df.film_id, 'inner')\\\n",
    "    .groupBy(\n",
    "        category_df.category_id,\n",
    "    ).agg(\n",
    "        F.sum(film_df.replacement_cost).alias(\"sum_production_cost\")\n",
    "    ).sort(\n",
    "        F.col(\"sum_production_cost\").desc(),\n",
    "    ).limit(1)\\\n",
    "    .join(\n",
    "        category_df.alias(\"category_lookup\"),\n",
    "        category_df.category_id == F.col(\"category_lookup.category_id\"),\n",
    "        'inner'\n",
    "    ).select(\n",
    "        F.col(\"category_lookup.category_id\"),\n",
    "        F.col(\"category_lookup.name\").alias('category_name'),\n",
    "        F.col(\"sum_production_cost\")\n",
    "    )\n",
    "most_expensive_film_category_df.first()"
   ]
  },
  {
   "cell_type": "markdown",
   "id": "8ee5330e",
   "metadata": {},
   "source": [
    "\n",
    "Вивести назви фільмів, яких не має в inventory."
   ]
  },
  {
   "cell_type": "code",
   "execution_count": 14,
   "id": "21a57f73",
   "metadata": {},
   "outputs": [
    {
     "name": "stdout",
     "output_type": "stream",
     "text": [
      "+----------------------+\n",
      "|title                 |\n",
      "+----------------------+\n",
      "|ALICE FANTASIA        |\n",
      "|APOLLO TEEN           |\n",
      "|ARGONAUTS TOWN        |\n",
      "|ARK RIDGEMONT         |\n",
      "|ARSENIC INDEPENDENCE  |\n",
      "|BOONDOCK BALLROOM     |\n",
      "|BUTCH PANTHER         |\n",
      "|CATCH AMISTAD         |\n",
      "|CHINATOWN GLADIATOR   |\n",
      "|CHOCOLATE DUCK        |\n",
      "|COMMANDMENTS EXPRESS  |\n",
      "|CROSSING DIVORCE      |\n",
      "|CROWDS TELEMARK       |\n",
      "|CRYSTAL BREAKING      |\n",
      "|DAZED PUNK            |\n",
      "|DELIVERANCE MULHOLLAND|\n",
      "|FIREHOUSE VIETNAM     |\n",
      "|FLOATS GARDEN         |\n",
      "|FRANKENSTEIN STRANGER |\n",
      "|GLADIATOR WESTWARD    |\n",
      "|GUMP DATE             |\n",
      "|HATE HANDICAP         |\n",
      "|HOCUS FRIDA           |\n",
      "|KENTUCKIAN GIANT      |\n",
      "|KILL BROTHERHOOD      |\n",
      "|MUPPET MILE           |\n",
      "|ORDER BETRAYED        |\n",
      "|PEARL DESTINY         |\n",
      "|PERDITION FARGO       |\n",
      "|PSYCHO SHRUNK         |\n",
      "|RAIDERS ANTITRUST     |\n",
      "|RAINBOW SHOCK         |\n",
      "|ROOF CHAMPION         |\n",
      "|SISTER FREDDY         |\n",
      "|SKY MIRACLE           |\n",
      "|SUICIDES SILENCE      |\n",
      "|TADPOLE PARK          |\n",
      "|TREASURE COMMAND      |\n",
      "|VILLAIN DESPERATE     |\n",
      "|VOLUME HOUSE          |\n",
      "|WAKE JAWS             |\n",
      "|WALLS ARTIST          |\n",
      "+----------------------+\n",
      "\n"
     ]
    }
   ],
   "source": [
    "no_inventory_films_df = film_df\\\n",
    "    .join(inventory_df, inventory_df.film_id == film_df.film_id, 'left_anti')\\\n",
    "    .select(film_df.title)\\\n",
    "    .persist()\n",
    "no_inventory_films_df.show(no_inventory_films_df.count(), False)"
   ]
  },
  {
   "cell_type": "markdown",
   "id": "6886a783",
   "metadata": {},
   "source": [
    "Вивести топ 3 актори, які найбільше зʼявлялись в категорії фільмів “Children”"
   ]
  },
  {
   "cell_type": "code",
   "execution_count": 16,
   "id": "466c10d5",
   "metadata": {},
   "outputs": [
    {
     "name": "stdout",
     "output_type": "stream",
     "text": [
      "+--------+----------+---------+-----------------+\n",
      "|actor_id|first_name|last_name|total_films_count|\n",
      "+--------+----------+---------+-----------------+\n",
      "|      17|     HELEN|   VOIGHT|                7|\n",
      "|      80|     RALPH|     CRUZ|                5|\n",
      "|     140|    WHOOPI|     HURT|                5|\n",
      "+--------+----------+---------+-----------------+\n",
      "\n"
     ]
    }
   ],
   "source": [
    "top3_actors_in_children_films = category_df\\\n",
    "    .select(category_df.category_id)\\\n",
    "    .filter(category_df.name == 'Children')\\\n",
    "    .join(film_category_df, category_df.category_id == film_category_df.category_id, 'inner')\\\n",
    "    .join(film_actor_df, film_category_df.film_id == film_actor_df.film_id, 'inner')\\\n",
    "    .join(actor_df, film_actor_df.actor_id == actor_df.actor_id, 'inner')\\\n",
    "    .groupBy(\n",
    "        actor_df.actor_id,\n",
    "    ).agg(\n",
    "        F.count(film_actor_df.actor_id).alias(\"total_films_count\"),\n",
    "    ).sort(\n",
    "        F.col(\"total_films_count\").desc(),\n",
    "    ).limit(3)\\\n",
    "    .join(\n",
    "        actor_df.alias(\"actor_lookup\"),\n",
    "        actor_df.actor_id == F.col(\"actor_lookup.actor_id\"),\n",
    "        'inner'\n",
    "    ).select(\n",
    "        F.col(\"actor_lookup.actor_id\"),\n",
    "        F.col(\"actor_lookup.first_name\"),\n",
    "        F.col(\"actor_lookup.last_name\"),\n",
    "        F.col(\"total_films_count\")\n",
    "    )\n",
    "top3_actors_in_children_films.show()"
   ]
  },
  {
   "cell_type": "code",
   "execution_count": null,
   "id": "797b6221",
   "metadata": {},
   "outputs": [],
   "source": [
    "spark.stop()"
   ]
  }
 ],
 "metadata": {
  "kernelspec": {
   "display_name": "PYSPARK_KERNEL",
   "language": "python",
   "name": "pyspark_kernel"
  },
  "language_info": {
   "codemirror_mode": {
    "name": "ipython",
    "version": 3
   },
   "file_extension": ".py",
   "mimetype": "text/x-python",
   "name": "python",
   "nbconvert_exporter": "python",
   "pygments_lexer": "ipython3",
   "version": "3.12.0"
  }
 },
 "nbformat": 4,
 "nbformat_minor": 5
}
